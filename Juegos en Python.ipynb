{
 "cells": [
  {
   "cell_type": "markdown",
   "metadata": {},
   "source": [
    "# Juego de Ruleta - Casino"
   ]
  },
  {
   "cell_type": "code",
   "execution_count": null,
   "metadata": {},
   "outputs": [],
   "source": [
    "import random"
   ]
  },
  {
   "cell_type": "code",
   "execution_count": null,
   "metadata": {},
   "outputs": [],
   "source": [
    "def ruleta_casino():\n",
    "    valores = [i for i in range(50)]\n",
    "    colores = ['rojo' if (i > 0 and i % 2 == 1)\n",
    "               else 'negro' if (i > 0 and i % 2 == 0)\n",
    "               else 'verde' for i in valores]\n",
    "    resultado = random.choice(valores)\n",
    "    color = colores[resultado]\n",
    "    return resultado, color\n",
    "\n",
    "print('¡Bienvenido a la Academia Hyakkao! Presionar ENTER para poder girar la ruleta.')\n",
    "input('Presionar ENTER...')\n",
    "\n",
    "resultado, color = ruleta_casino()\n",
    "print('Tu número fue:',resultado)\n",
    "print('Tu color fue:',color)"
   ]
  },
  {
   "cell_type": "markdown",
   "metadata": {},
   "source": [
    "# Tres en Raya (Michi o ta-te-ti)"
   ]
  },
  {
   "cell_type": "code",
   "execution_count": null,
   "metadata": {},
   "outputs": [],
   "source": [
    "def imprimir_tablero(tablero):\n",
    "    for fila in tablero:\n",
    "        print(\"|\".join(fila))\n",
    "        print(\"-\" * 5)\n",
    "\n",
    "def verificar_ganador(tablero, jugador):\n",
    "    # Verificar filas\n",
    "    for fila in tablero:\n",
    "        if all(casilla == jugador for casilla in fila):\n",
    "            return True\n",
    "\n",
    "    # Verificar columnas\n",
    "    for i in range(3):\n",
    "        if all(tablero[j][i] == jugador for j in range(3)):\n",
    "            return True\n",
    "\n",
    "    # Verificar diagonales\n",
    "    if all(tablero[i][i] == jugador for i in range(3)):\n",
    "        return True\n",
    "    if all(tablero[i][2 - i] == jugador for i in range(3)):\n",
    "        return True\n",
    "\n",
    "    return False\n",
    "\n",
    "def jugar_ta_te_ti():\n",
    "    tablero = [[\" \"]*3 for _ in range(3)]\n",
    "    jugadores = [\"X\", \"O\"]\n",
    "    jugador_actual = 0\n",
    "    jugando = True\n",
    "\n",
    "    while jugando:\n",
    "        imprimir_tablero(tablero)\n",
    "        fila = int(input(\"Ingrese la fila (0, 1, o 2): \"))\n",
    "        columna = int(input(\"Ingrese la columna (0, 1, o 2): \"))\n",
    "\n",
    "        if tablero[fila][columna] == \" \":\n",
    "            tablero[fila][columna] = jugadores[jugador_actual]\n",
    "            if verificar_ganador(tablero, jugadores[jugador_actual]):\n",
    "                imprimir_tablero(tablero)\n",
    "                print(\"¡Jugador\", jugadores[jugador_actual], \"ha ganado!\")\n",
    "                jugando = False\n",
    "            elif \" \" not in [casilla for fila in tablero for casilla in fila]:\n",
    "                imprimir_tablero(tablero)\n",
    "                print(\"¡Empate!\")\n",
    "                jugando = False\n",
    "            else:\n",
    "                jugador_actual = (jugador_actual + 1) % 2\n",
    "        else:\n",
    "            print(\"Casilla ocupada. Intenta de nuevo.\")\n",
    "\n",
    "jugar_ta_te_ti()"
   ]
  },
  {
   "cell_type": "markdown",
   "metadata": {},
   "source": [
    "# Hangman (Ahorcado)"
   ]
  },
  {
   "cell_type": "code",
   "execution_count": null,
   "metadata": {},
   "outputs": [],
   "source": [
    "def obtener_palabra():\n",
    "    palabras = [\"python\", \"programacion\", \"computadora\", \"inteligencia\", \"datos\", \"algoritmo\", \"openai\"]\n",
    "    return random.choice(palabras)\n",
    "\n",
    "def mostrar_tablero(palabra, letras_adivinadas):\n",
    "    resultado = \"\"\n",
    "    for letra in palabra:\n",
    "        if letra in letras_adivinadas:\n",
    "            resultado += letra + \" \"\n",
    "        else:\n",
    "            resultado += \"_ \"\n",
    "    return resultado\n",
    "\n",
    "def jugar_ahorcado():\n",
    "    palabra = obtener_palabra()\n",
    "    intentos_maximos = 6\n",
    "    letras_adivinadas = []\n",
    "    letras_erroneas = []\n",
    "\n",
    "    print(\"¡Bienvenido al juego del ahorcado!\")\n",
    "    print(\"Adivina la palabra secreta.\")\n",
    "    print(mostrar_tablero(palabra, letras_adivinadas))\n",
    "\n",
    "    while True:\n",
    "        letra = input(\"Ingresa una letra: \").lower()\n",
    "\n",
    "        if letra in letras_adivinadas or letra in letras_erroneas:\n",
    "            print(\"¡Ya has intentado esa letra! Intenta con otra.\")\n",
    "            continue\n",
    "\n",
    "        if letra in palabra:\n",
    "            letras_adivinadas.append(letra)\n",
    "            print(\"¡Correcto!\")\n",
    "        else:\n",
    "            letras_erroneas.append(letra)\n",
    "            intentos_maximos -= 1\n",
    "            print(\"Incorrecto. Te quedan\", intentos_maximos, \"intentos.\")\n",
    "\n",
    "        print(mostrar_tablero(palabra, letras_adivinadas))\n",
    "\n",
    "        if all(letra in letras_adivinadas for letra in palabra):\n",
    "            print(\"¡Felicidades! ¡Has adivinado la palabra secreta:\", palabra, \"!\")\n",
    "            break\n",
    "        elif intentos_maximos == 0:\n",
    "            print(\"¡Oh no! Te has quedado sin intentos. La palabra secreta era:\", palabra)\n",
    "            break\n",
    "\n",
    "jugar_ahorcado()"
   ]
  }
 ],
 "metadata": {
  "kernelspec": {
   "display_name": "base",
   "language": "python",
   "name": "python3"
  },
  "language_info": {
   "codemirror_mode": {
    "name": "ipython",
    "version": 3
   },
   "file_extension": ".py",
   "mimetype": "text/x-python",
   "name": "python",
   "nbconvert_exporter": "python",
   "pygments_lexer": "ipython3",
   "version": "3.11.7"
  }
 },
 "nbformat": 4,
 "nbformat_minor": 2
}
